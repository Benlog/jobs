{
 "cells": [
  {
   "cell_type": "code",
   "execution_count": 1,
   "metadata": {},
   "outputs": [],
   "source": [
    "%matplotlib inline"
   ]
  },
  {
   "cell_type": "code",
   "execution_count": 2,
   "metadata": {},
   "outputs": [],
   "source": [
    "from __future__ import unicode_literals, print_function, division\n",
    "from io import open\n",
    "import unicodedata\n",
    "import string\n",
    "import re\n",
    "import random\n",
    "import pandas as pd\n",
    "\n",
    "import torch\n",
    "import torch.nn as nn\n",
    "from torch.autograd import Variable\n",
    "from torch import optim\n",
    "import torch.nn.functional as F\n",
    "\n",
    "use_cuda = torch.cuda.is_available()"
   ]
  },
  {
   "cell_type": "code",
   "execution_count": 3,
   "metadata": {},
   "outputs": [],
   "source": [
    "SOS_token = 0\n",
    "EOS_token = 1\n",
    "\n",
    "\n",
    "class Lang:\n",
    "    def __init__(self):\n",
    "        self.word2index = {}\n",
    "        self.word2count = {}\n",
    "        self.index2word = {SOS_token: \"SOS\", EOS_token: \"EOS\"}\n",
    "        self.n_words = 2  # Count SOS and EOS\n",
    "\n",
    "    def addSentence(self, sentence):\n",
    "        for word in sentence.split(' '):\n",
    "            self.addWord(word)\n",
    "\n",
    "    def addWord(self, word):\n",
    "        if word not in self.word2index:\n",
    "            self.word2index[word] = self.n_words\n",
    "            self.word2count[word] = 1\n",
    "            self.index2word[self.n_words] = word\n",
    "            self.n_words += 1\n",
    "        else:\n",
    "            self.word2count[word] += 1"
   ]
  },
  {
   "cell_type": "code",
   "execution_count": 4,
   "metadata": {},
   "outputs": [],
   "source": [
    "# Turn a Unicode string to plain ASCII, thanks to\n",
    "# http://stackoverflow.com/a/518232/2809427\n",
    "def unicodeToAscii(s):\n",
    "    return ''.join(\n",
    "        c for c in unicodedata.normalize('NFD', s)\n",
    "        if unicodedata.category(c) != 'Mn'\n",
    "    )\n",
    "\n",
    "# Lowercase, trim, and remove non-letter characters\n",
    "\n",
    "\n",
    "def normalizeString(s):\n",
    "    s = unicodeToAscii(s.lower().strip())\n",
    "    s = re.sub(r\"([.!?])\", r\" \\1\", s)\n",
    "    s = re.sub(r\"[^a-zA-Z.!?]+\", r\" \", s)\n",
    "    return s"
   ]
  },
  {
   "cell_type": "code",
   "execution_count": 5,
   "metadata": {},
   "outputs": [],
   "source": [
    "def loadData(lang, filep = \"./data_train.csv\"):\n",
    "    c = pd.read_csv(filep)\n",
    "    c.fillna({\"title\":'',\"abstract\":''},inplace=True)\n",
    "    c.dropna(inplace=True)\n",
    "    for i,t,a in c[[\"title\",\"abstract\"]].itertuples():\n",
    "        lang.addSentence(t+' '+a)\n",
    "        \n",
    "    return c"
   ]
  },
  {
   "cell_type": "code",
   "execution_count": 6,
   "metadata": {},
   "outputs": [],
   "source": [
    "lang = Lang()\n",
    "train = loadData(lang)\n",
    "test = loadData(lang, \"./data_test.csv\")"
   ]
  },
  {
   "cell_type": "code",
   "execution_count": 7,
   "metadata": {},
   "outputs": [],
   "source": [
    "train1 = train.sample(frac=0.8)\n",
    "train2 = train.drop(train1.index)"
   ]
  },
  {
   "cell_type": "code",
   "execution_count": 8,
   "metadata": {},
   "outputs": [],
   "source": [
    "label2int = {k : i for i,k in enumerate(train.label.unique())}\n",
    "int2label = {v : k for k, v in label2int.items()}"
   ]
  },
  {
   "cell_type": "code",
   "execution_count": 9,
   "metadata": {},
   "outputs": [
    {
     "data": {
      "text/plain": [
       "6767"
      ]
     },
     "execution_count": 9,
     "metadata": {},
     "output_type": "execute_result"
    }
   ],
   "source": [
    "len(lang.word2count)"
   ]
  },
  {
   "cell_type": "code",
   "execution_count": 10,
   "metadata": {},
   "outputs": [
    {
     "data": {
      "text/html": [
       "<div>\n",
       "<style scoped>\n",
       "    .dataframe tbody tr th:only-of-type {\n",
       "        vertical-align: middle;\n",
       "    }\n",
       "\n",
       "    .dataframe tbody tr th {\n",
       "        vertical-align: top;\n",
       "    }\n",
       "\n",
       "    .dataframe thead th {\n",
       "        text-align: right;\n",
       "    }\n",
       "</style>\n",
       "<table border=\"1\" class=\"dataframe\">\n",
       "  <thead>\n",
       "    <tr style=\"text-align: right;\">\n",
       "      <th></th>\n",
       "      <th>pmid</th>\n",
       "      <th>year</th>\n",
       "      <th>title</th>\n",
       "      <th>abstract</th>\n",
       "      <th>label</th>\n",
       "    </tr>\n",
       "  </thead>\n",
       "  <tbody>\n",
       "    <tr>\n",
       "      <th>80</th>\n",
       "      <td>22822591</td>\n",
       "      <td>2012</td>\n",
       "      <td>Abiraterone. After prostate cancer treatment f...</td>\n",
       "      <td>There is no standard treatment for metastatic ...</td>\n",
       "      <td>A1</td>\n",
       "    </tr>\n",
       "  </tbody>\n",
       "</table>\n",
       "</div>"
      ],
      "text/plain": [
       "        pmid  year                                              title  \\\n",
       "80  22822591  2012  Abiraterone. After prostate cancer treatment f...   \n",
       "\n",
       "                                             abstract label  \n",
       "80  There is no standard treatment for metastatic ...    A1  "
      ]
     },
     "execution_count": 10,
     "metadata": {},
     "output_type": "execute_result"
    }
   ],
   "source": [
    "train.sample()"
   ]
  },
  {
   "cell_type": "code",
   "execution_count": 11,
   "metadata": {},
   "outputs": [],
   "source": [
    "class EncoderRNN(nn.Module):\n",
    "    def __init__(self, input_size, hidden_size, n_layers=1):\n",
    "        super(EncoderRNN, self).__init__()\n",
    "        self.n_layers = n_layers\n",
    "        self.hidden_size = hidden_size\n",
    "\n",
    "        self.embedding = nn.Embedding(input_size, hidden_size)\n",
    "        self.gru = nn.GRU(hidden_size, hidden_size)\n",
    "\n",
    "    def forward(self, input, hidden):\n",
    "        embedded = self.embedding(input).view(1, 1, -1)\n",
    "        output = embedded\n",
    "        for i in range(self.n_layers):\n",
    "            output, hidden = self.gru(output, hidden)\n",
    "        return output, hidden\n",
    "\n",
    "    def initHidden(self):\n",
    "        result = Variable(torch.zeros(1, 1, self.hidden_size))\n",
    "        if use_cuda:\n",
    "            return result.cuda()\n",
    "        else:\n",
    "            return result"
   ]
  },
  {
   "cell_type": "code",
   "execution_count": 12,
   "metadata": {},
   "outputs": [],
   "source": [
    "class Decoder(nn.Module):\n",
    "    def __init__(self, hidden_size, output_size, n_layers=1):\n",
    "        super(Decoder, self).__init__()\n",
    "        self.hidden_size = hidden_size\n",
    "        self.out = nn.Sequential(*[nn.Linear(hidden_size, hidden_size) for i in range(n_layers-1)],nn.Linear(hidden_size, output_size))\n",
    "        self.softmax = nn.LogSoftmax(dim=0)\n",
    "\n",
    "    def forward(self, hidden):\n",
    "        return self.softmax(self.out(hidden))\n",
    "\n",
    "    def initHidden(self):\n",
    "        result = Variable(torch.zeros(1, 1, self.hidden_size))\n",
    "        if use_cuda:\n",
    "            return result.cuda()\n",
    "        else:\n",
    "            return result"
   ]
  },
  {
   "cell_type": "code",
   "execution_count": 13,
   "metadata": {},
   "outputs": [],
   "source": [
    "def indexesFromSentence(lang, sentence):\n",
    "    return [lang.word2index[word] for word in sentence.split(' ')]\n",
    "\n",
    "\n",
    "def variableFromSentence(lang, sentence):\n",
    "    indexes = indexesFromSentence(lang, sentence)\n",
    "    indexes.append(EOS_token)\n",
    "    indexes.insert(0,SOS_token)\n",
    "    result = Variable(torch.LongTensor(indexes).view(-1, 1))\n",
    "    if use_cuda:\n",
    "        return result.cuda()\n",
    "    else:\n",
    "        return result\n",
    "\n",
    "def variableFromLabel(label):\n",
    "    result = Variable(torch.LongTensor([label2int[label]]))\n",
    "    if use_cuda:\n",
    "        return result.cuda()\n",
    "    else:\n",
    "        return result"
   ]
  },
  {
   "cell_type": "code",
   "execution_count": 14,
   "metadata": {},
   "outputs": [],
   "source": [
    "def trainModel(input_variable, target_variable, encoder, decoder, encoder_optimizer, decoder_optimizer, criterion):\n",
    "    encoder_hidden = encoder.initHidden()\n",
    "\n",
    "    encoder_optimizer.zero_grad()\n",
    "    decoder_optimizer.zero_grad()\n",
    "\n",
    "    input_length = input_variable.size()[0]\n",
    "\n",
    "    loss = 0\n",
    "\n",
    "    for ei in range(input_length):\n",
    "        _, encoder_hidden = encoder(input_variable[ei], encoder_hidden)\n",
    "\n",
    "    decoder_output = decoder(encoder_hidden[0][0]).unsqueeze(0)\n",
    "\n",
    "    loss = criterion(decoder_output, target_variable)\n",
    "    loss.backward()\n",
    "\n",
    "    encoder_optimizer.step()\n",
    "    decoder_optimizer.step()\n",
    "\n",
    "    return loss.data"
   ]
  },
  {
   "cell_type": "code",
   "execution_count": 15,
   "metadata": {},
   "outputs": [],
   "source": [
    "import time\n",
    "import math\n",
    "\n",
    "\n",
    "def asMinutes(s):\n",
    "    m = math.floor(s / 60)\n",
    "    s -= m * 60\n",
    "    return '%dm %ds' % (m, s)\n",
    "\n",
    "\n",
    "def timeSince(since, percent):\n",
    "    now = time.time()\n",
    "    s = now - since\n",
    "    es = s / (percent)\n",
    "    rs = es - s\n",
    "    return '%s (- %s)' % (asMinutes(s), asMinutes(rs))"
   ]
  },
  {
   "cell_type": "code",
   "execution_count": 74,
   "metadata": {},
   "outputs": [],
   "source": [
    "def trainIters(train, test, encoder, decoder, n_iters, print_every=1000, plot_every=100, learning_rate=0.01):\n",
    "    start = time.time()\n",
    "    plot_losses = []\n",
    "    print_loss_total = 0  # Reset every print_every\n",
    "    plot_loss_total = 0  # Reset every plot_every\n",
    "    plot_trainScore = []\n",
    "    plot_testScore = []\n",
    "\n",
    "    encoder_optimizer = optim.SGD(encoder.parameters(), lr=learning_rate)\n",
    "    decoder_optimizer = optim.SGD(decoder.parameters(), lr=learning_rate)\n",
    "    criterion = nn.NLLLoss()\n",
    "    scoreTrain, scoreTest = None, None\n",
    "\n",
    "    for iter in range(1, n_iters + 1):\n",
    "        sample = train.sample().iloc[0]\n",
    "        input_variable = variableFromSentence(lang, sample.title)\n",
    "        target_variable = variableFromLabel(sample.label)\n",
    "\n",
    "        loss = trainModel(input_variable, target_variable, encoder,\n",
    "                     decoder, encoder_optimizer, decoder_optimizer, criterion)\n",
    "        print_loss_total += loss\n",
    "        plot_loss_total += loss\n",
    "\n",
    "        if iter % print_every == 0:\n",
    "            print_loss_avg = print_loss_total / print_every\n",
    "            print_loss_total = 0\n",
    "            scoreTrain = score(train, encoder1, decoder1)\n",
    "            scoreTest = score(test, encoder1, decoder1)\n",
    "            print('%s (%d %d%%) %.4f %.2f %.2f' % (timeSince(start, iter / n_iters),\n",
    "                                         iter, iter / n_iters * 100, print_loss_avg, scoreTrain, scoreTest))\n",
    "\n",
    "        if iter % plot_every == 0:\n",
    "            plot_loss_avg = plot_loss_total / plot_every\n",
    "            plot_losses.append(plot_loss_avg)\n",
    "            if scoreTrain :\n",
    "                plot_trainScore.append(scoreTrain)\n",
    "                plot_testScore.append(scoreTest)\n",
    "                \n",
    "            else :\n",
    "                plot_trainScore.append(score(train, encoder, decoder))\n",
    "                plot_testScore.append(score(test, encoder, decoder))\n",
    "            plot_loss_total = 0\n",
    "            scoreTrain, scoreTest = None, None\n",
    "\n",
    "    showPlot(plot_losses)\n",
    "    showPlot(list(zip(plot_trainScore,plot_testScore)))"
   ]
  },
  {
   "cell_type": "code",
   "execution_count": 75,
   "metadata": {},
   "outputs": [],
   "source": [
    "import matplotlib.pyplot as plt\n",
    "import matplotlib.ticker as ticker\n",
    "import numpy as np\n",
    "\n",
    "\n",
    "def showPlot(points):\n",
    "    plt.figure()\n",
    "    fig, ax = plt.subplots()\n",
    "    # this locator puts ticks at regular intervals\n",
    "    loc = ticker.MultipleLocator(base=0.2)\n",
    "    ax.yaxis.set_major_locator(loc)\n",
    "    plt.plot(points)"
   ]
  },
  {
   "cell_type": "code",
   "execution_count": 76,
   "metadata": {},
   "outputs": [],
   "source": [
    "def evaluate(encoder, decoder, sentence):\n",
    "    input_variable = variableFromSentence(lang, sentence)\n",
    "    input_length = input_variable.size()[0]\n",
    "    encoder_hidden = encoder.initHidden()\n",
    "\n",
    "    for ei in range(input_length):\n",
    "        _, encoder_hidden = encoder(input_variable[ei], encoder_hidden)\n",
    "\n",
    "    decoder_output = decoder(encoder_hidden[0][0])\n",
    "\n",
    "    return int2label[decoder_output.data.topk(1)[1][0]]"
   ]
  },
  {
   "cell_type": "code",
   "execution_count": 77,
   "metadata": {},
   "outputs": [],
   "source": [
    "def evaluateRandomly(data, encoder, decoder, n=10):\n",
    "    for i in range(n):\n",
    "        sample = data.sample().iloc[0]\n",
    "        inputSentence = sample.title\n",
    "        target = sample.label\n",
    "        print('>', inputSentence)\n",
    "        print('=', target)\n",
    "        output = evaluate(encoder, decoder, inputSentence)\n",
    "        print('<', output)\n",
    "        print('')"
   ]
  },
  {
   "cell_type": "code",
   "execution_count": 78,
   "metadata": {},
   "outputs": [],
   "source": [
    "def score(data, encoder, decoder, n=1000):\n",
    "    cpt = 0\n",
    "    for i in range(n):\n",
    "        sample = data.sample().iloc[0]\n",
    "        inputSentence = sample.title\n",
    "        target = sample.label\n",
    "        output = evaluate(encoder, decoder, inputSentence)\n",
    "        if output == target:\n",
    "            cpt+=1\n",
    "    return cpt/n"
   ]
  },
  {
   "cell_type": "code",
   "execution_count": 80,
   "metadata": {},
   "outputs": [
    {
     "name": "stdout",
     "output_type": "stream",
     "text": [
      "1m 3s (- 9m 32s) (100 10%) 1.1377 0.48 0.13\n",
      "2m 2s (- 8m 11s) (200 20%) 1.0365 0.35 0.27\n",
      "3m 1s (- 7m 3s) (300 30%) 1.0237 0.69 0.35\n",
      "3m 59s (- 5m 59s) (400 40%) 0.9992 0.68 0.29\n",
      "5m 2s (- 5m 2s) (500 50%) 0.8751 0.67 0.38\n",
      "5m 51s (- 3m 54s) (600 60%) 0.8633 0.70 0.42\n",
      "6m 40s (- 2m 51s) (700 70%) 0.7587 0.70 0.23\n",
      "7m 37s (- 1m 54s) (800 80%) 0.6108 0.72 0.31\n",
      "8m 36s (- 0m 57s) (900 90%) 0.5906 0.75 0.19\n",
      "9m 39s (- 0m 0s) (1000 100%) 0.5721 0.78 0.28\n"
     ]
    },
    {
     "data": {
      "text/plain": [
       "<matplotlib.figure.Figure at 0x7f17445950f0>"
      ]
     },
     "metadata": {},
     "output_type": "display_data"
    },
    {
     "data": {
      "image/png": "[encoded data removed]",
      "text/plain": [
       "<matplotlib.figure.Figure at 0x7f1744595128>"
      ]
     },
     "metadata": {},
     "output_type": "display_data"
    },
    {
     "data": {
      "text/plain": [
       "<matplotlib.figure.Figure at 0x7f1748478f28>"
      ]
     },
     "metadata": {},
     "output_type": "display_data"
    },
    {
     "data": {
      "image/png": "[encoded data removed]",
      "text/plain": [
       "<matplotlib.figure.Figure at 0x7f17481cb438>"
      ]
     },
     "metadata": {},
     "output_type": "display_data"
    }
   ],
   "source": [
    "hidden_size = 256\n",
    "encoder1 = EncoderRNN(lang.n_words, hidden_size)\n",
    "decoder1 = Decoder(hidden_size,len(int2label))\n",
    "ite = 1000\n",
    "\n",
    "if use_cuda:\n",
    "    encoder1 = encoder1.cuda()\n",
    "    decoder1 = decoder1.cuda()\n",
    "\n",
    "trainIters(train1, train2, encoder1, decoder1, ite, print_every=100, plot_every=50)"
   ]
  },
  {
   "cell_type": "code",
   "execution_count": 81,
   "metadata": {},
   "outputs": [
    {
     "name": "stdout",
     "output_type": "stream",
     "text": [
      "> TROPIC: Phase III trial of cabazitaxel for the treatment of metastatic castration-resistant prostate cancer.\n",
      "= C2\n",
      "< E3\n",
      "\n",
      "> Perspectives on treatment of metastatic castration-resistant prostate cancer.\n",
      "= C2\n",
      "< E3\n",
      "\n",
      "> Synthesis and structure-activity relationship studies of novel dihydropyridones as androgen receptor modulators.\n",
      "= E3\n",
      "< E3\n",
      "\n",
      "> A profile of enzalutamide for the treatment of advanced castration resistant prostate cancer.\n",
      "= E3\n",
      "< E3\n",
      "\n",
      "> [Roles of enzalutamide in castrate-resistant prostate cancer].\n",
      "= E3\n",
      "< A1\n",
      "\n",
      "> Commentary on \"AR-V7 and resistance to enzalutamide and abiraterone in prostate cancer.\" Antonarakis ES, Lu C, Wang H, Luber B, Nakazawa M, Roeser JC, Chen Y, Mohammad TA, Chen Y, Fedor HL, Lotan TL, Zheng Q, De Marzo AM, Isaacs JT, Isaacs WB, Nadal R, Paller CJ, Denmeade SR, Carducci MA, Eisenberger MA, Luo J, Division of Urologic Oncology, Department of Urology, University of Michigan, MI. N Engl J Med 2014; 371(11):1028-38.\n",
      "= E3\n",
      "< E3\n",
      "\n",
      "> Preclinical Development of ONC1-13B, Novel Antiandrogen for Prostate Cancer Treatment.\n",
      "= E3\n",
      "< C2\n",
      "\n",
      "> Sox2 is an androgen receptor-repressed gene that promotes castration-resistant prostate cancer.\n",
      "= E3\n",
      "< E3\n",
      "\n",
      "> Clinical Relevance of Androgen Receptor Splice Variants in Castration-Resistant Prostate Cancer.\n",
      "= C2\n",
      "< E3\n",
      "\n",
      "> Combining enzalutamide with abiraterone, prednisone, and androgen deprivation therapy in the STAMPEDE trial.\n",
      "= E3\n",
      "< E3\n",
      "\n"
     ]
    }
   ],
   "source": [
    "evaluateRandomly(train, encoder1, decoder1)"
   ]
  },
  {
   "cell_type": "code",
   "execution_count": 82,
   "metadata": {},
   "outputs": [
    {
     "name": "stdout",
     "output_type": "stream",
     "text": [
      "0.783 0.267\n"
     ]
    }
   ],
   "source": [
    "print(score(train1, encoder1, decoder1),score(train2, encoder1, decoder1))"
   ]
  },
  {
   "cell_type": "code",
   "execution_count": null,
   "metadata": {},
   "outputs": [],
   "source": []
  }
 ],
 "metadata": {
  "kernelspec": {
   "display_name": "Python 3",
   "language": "python",
   "name": "python3"
  },
  "language_info": {
   "codemirror_mode": {
    "name": "ipython",
    "version": 3
   },
   "file_extension": ".py",
   "mimetype": "text/x-python",
   "name": "python",
   "nbconvert_exporter": "python",
   "pygments_lexer": "ipython3",
   "version": "3.6.3"
  }
 },
 "nbformat": 4,
 "nbformat_minor": 2
}
